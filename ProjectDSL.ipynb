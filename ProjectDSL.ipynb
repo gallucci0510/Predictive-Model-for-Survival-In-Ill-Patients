{
  "cells": [
    {
      "cell_type": "markdown",
      "metadata": {
        "id": "fcczMgh60mt2"
      },
      "source": [
        "# **Project DSL**"
      ]
    },
    {
      "cell_type": "code",
      "execution_count": 1,
      "metadata": {
        "colab": {
          "base_uri": "https://localhost:8080/"
        },
        "id": "J9WgtcrJQrKA",
        "outputId": "f90913ab-8768-44a1-fbf8-a8bf5a7de711"
      },
      "outputs": [
        {
          "output_type": "stream",
          "name": "stdout",
          "text": [
            "Mounted at /content/drive\n"
          ]
        }
      ],
      "source": [
        "import pandas as pd\n",
        "from google.colab import drive\n",
        "from scipy.stats import pointbiserialr\n",
        "import sys\n",
        "from sklearn.model_selection import train_test_split, GridSearchCV\n",
        "from sklearn.ensemble import RandomForestClassifier\n",
        "from sklearn.metrics import confusion_matrix, accuracy_score\n",
        "from sklearn.model_selection import cross_val_score, StratifiedKFold\n",
        "from sklearn.metrics import f1_score\n",
        "import random\n",
        "import seaborn as sns\n",
        "import matplotlib.pyplot as plt\n",
        "from sklearn.impute import SimpleImputer, KNNImputer\n",
        "import numpy as np\n",
        "from sklearn.preprocessing import StandardScaler\n",
        "from sklearn.decomposition import PCA\n",
        "from sklearn.neighbors import KNeighborsClassifier\n",
        "import statsmodels.api as sm\n",
        "import warnings\n",
        "\n",
        "random.seed(42)\n",
        "drive.mount('/content/drive')"
      ]
    },
    {
      "cell_type": "markdown",
      "metadata": {
        "id": "BKk5VrYbXu4V"
      },
      "source": [
        "Let us display the first examples of our datasets"
      ]
    },
    {
      "cell_type": "code",
      "execution_count": 3,
      "metadata": {
        "colab": {
          "base_uri": "https://localhost:8080/",
          "height": 323
        },
        "id": "x9DX8dty02Ht",
        "outputId": "3837eba6-9c80-4f9e-c089-8e2416572fd4"
      },
      "outputs": [
        {
          "output_type": "stream",
          "name": "stdout",
          "text": [
            "Size of the DataFrame (7284, 44)\n"
          ]
        },
        {
          "output_type": "execute_result",
          "data": {
            "text/plain": [
              "        age   sex            dzgroup             dzclass  num.co   edu  \\\n",
              "0  44.32599  male                CHF  COPD/CHF/Cirrhosis       2  14.0   \n",
              "1  78.39600  male               COPD  COPD/CHF/Cirrhosis       2  14.0   \n",
              "2  32.44098  male  ARF/MOSF w/Sepsis            ARF/MOSF       1  11.0   \n",
              "3  74.93994  male  ARF/MOSF w/Sepsis            ARF/MOSF       0   8.0   \n",
              "4  61.67599  male       Colon Cancer              Cancer       1   8.0   \n",
              "\n",
              "       income  scoma    charges       totcst  ...    sod        ph glucose  \\\n",
              "0  under $11k    0.0    44950.0   23775.2188  ...  129.0       NaN   154.0   \n",
              "1    $25-$50k    0.0    11293.0    8076.2969  ...  133.0  7.369141     NaN   \n",
              "2         NaN   37.0  1273347.0  633212.0000  ...  143.0  7.509766     NaN   \n",
              "3    $11-$25k    9.0    48671.0   31515.9844  ...  137.0  7.399414   146.0   \n",
              "4    $11-$25k    0.0     2958.0    1935.3555  ...  137.0  7.469727   383.0   \n",
              "\n",
              "     bun   urine  adlp  adls    adlsc  death  Id  \n",
              "0   51.0  2650.0   0.0   0.0  0.00000      1   0  \n",
              "1    NaN     NaN   NaN   NaN  3.44873      1   1  \n",
              "2    NaN     NaN   NaN   7.0  7.00000      1   2  \n",
              "3   25.0  1000.0   NaN   0.0  0.00000      0   3  \n",
              "4  101.0  1040.0   NaN   7.0  7.00000      1   4  \n",
              "\n",
              "[5 rows x 44 columns]"
            ],
            "text/html": [
              "\n",
              "  <div id=\"df-a9e35ed4-99a0-421a-840c-dbb4d345a906\" class=\"colab-df-container\">\n",
              "    <div>\n",
              "<style scoped>\n",
              "    .dataframe tbody tr th:only-of-type {\n",
              "        vertical-align: middle;\n",
              "    }\n",
              "\n",
              "    .dataframe tbody tr th {\n",
              "        vertical-align: top;\n",
              "    }\n",
              "\n",
              "    .dataframe thead th {\n",
              "        text-align: right;\n",
              "    }\n",
              "</style>\n",
              "<table border=\"1\" class=\"dataframe\">\n",
              "  <thead>\n",
              "    <tr style=\"text-align: right;\">\n",
              "      <th></th>\n",
              "      <th>age</th>\n",
              "      <th>sex</th>\n",
              "      <th>dzgroup</th>\n",
              "      <th>dzclass</th>\n",
              "      <th>num.co</th>\n",
              "      <th>edu</th>\n",
              "      <th>income</th>\n",
              "      <th>scoma</th>\n",
              "      <th>charges</th>\n",
              "      <th>totcst</th>\n",
              "      <th>...</th>\n",
              "      <th>sod</th>\n",
              "      <th>ph</th>\n",
              "      <th>glucose</th>\n",
              "      <th>bun</th>\n",
              "      <th>urine</th>\n",
              "      <th>adlp</th>\n",
              "      <th>adls</th>\n",
              "      <th>adlsc</th>\n",
              "      <th>death</th>\n",
              "      <th>Id</th>\n",
              "    </tr>\n",
              "  </thead>\n",
              "  <tbody>\n",
              "    <tr>\n",
              "      <th>0</th>\n",
              "      <td>44.32599</td>\n",
              "      <td>male</td>\n",
              "      <td>CHF</td>\n",
              "      <td>COPD/CHF/Cirrhosis</td>\n",
              "      <td>2</td>\n",
              "      <td>14.0</td>\n",
              "      <td>under $11k</td>\n",
              "      <td>0.0</td>\n",
              "      <td>44950.0</td>\n",
              "      <td>23775.2188</td>\n",
              "      <td>...</td>\n",
              "      <td>129.0</td>\n",
              "      <td>NaN</td>\n",
              "      <td>154.0</td>\n",
              "      <td>51.0</td>\n",
              "      <td>2650.0</td>\n",
              "      <td>0.0</td>\n",
              "      <td>0.0</td>\n",
              "      <td>0.00000</td>\n",
              "      <td>1</td>\n",
              "      <td>0</td>\n",
              "    </tr>\n",
              "    <tr>\n",
              "      <th>1</th>\n",
              "      <td>78.39600</td>\n",
              "      <td>male</td>\n",
              "      <td>COPD</td>\n",
              "      <td>COPD/CHF/Cirrhosis</td>\n",
              "      <td>2</td>\n",
              "      <td>14.0</td>\n",
              "      <td>$25-$50k</td>\n",
              "      <td>0.0</td>\n",
              "      <td>11293.0</td>\n",
              "      <td>8076.2969</td>\n",
              "      <td>...</td>\n",
              "      <td>133.0</td>\n",
              "      <td>7.369141</td>\n",
              "      <td>NaN</td>\n",
              "      <td>NaN</td>\n",
              "      <td>NaN</td>\n",
              "      <td>NaN</td>\n",
              "      <td>NaN</td>\n",
              "      <td>3.44873</td>\n",
              "      <td>1</td>\n",
              "      <td>1</td>\n",
              "    </tr>\n",
              "    <tr>\n",
              "      <th>2</th>\n",
              "      <td>32.44098</td>\n",
              "      <td>male</td>\n",
              "      <td>ARF/MOSF w/Sepsis</td>\n",
              "      <td>ARF/MOSF</td>\n",
              "      <td>1</td>\n",
              "      <td>11.0</td>\n",
              "      <td>NaN</td>\n",
              "      <td>37.0</td>\n",
              "      <td>1273347.0</td>\n",
              "      <td>633212.0000</td>\n",
              "      <td>...</td>\n",
              "      <td>143.0</td>\n",
              "      <td>7.509766</td>\n",
              "      <td>NaN</td>\n",
              "      <td>NaN</td>\n",
              "      <td>NaN</td>\n",
              "      <td>NaN</td>\n",
              "      <td>7.0</td>\n",
              "      <td>7.00000</td>\n",
              "      <td>1</td>\n",
              "      <td>2</td>\n",
              "    </tr>\n",
              "    <tr>\n",
              "      <th>3</th>\n",
              "      <td>74.93994</td>\n",
              "      <td>male</td>\n",
              "      <td>ARF/MOSF w/Sepsis</td>\n",
              "      <td>ARF/MOSF</td>\n",
              "      <td>0</td>\n",
              "      <td>8.0</td>\n",
              "      <td>$11-$25k</td>\n",
              "      <td>9.0</td>\n",
              "      <td>48671.0</td>\n",
              "      <td>31515.9844</td>\n",
              "      <td>...</td>\n",
              "      <td>137.0</td>\n",
              "      <td>7.399414</td>\n",
              "      <td>146.0</td>\n",
              "      <td>25.0</td>\n",
              "      <td>1000.0</td>\n",
              "      <td>NaN</td>\n",
              "      <td>0.0</td>\n",
              "      <td>0.00000</td>\n",
              "      <td>0</td>\n",
              "      <td>3</td>\n",
              "    </tr>\n",
              "    <tr>\n",
              "      <th>4</th>\n",
              "      <td>61.67599</td>\n",
              "      <td>male</td>\n",
              "      <td>Colon Cancer</td>\n",
              "      <td>Cancer</td>\n",
              "      <td>1</td>\n",
              "      <td>8.0</td>\n",
              "      <td>$11-$25k</td>\n",
              "      <td>0.0</td>\n",
              "      <td>2958.0</td>\n",
              "      <td>1935.3555</td>\n",
              "      <td>...</td>\n",
              "      <td>137.0</td>\n",
              "      <td>7.469727</td>\n",
              "      <td>383.0</td>\n",
              "      <td>101.0</td>\n",
              "      <td>1040.0</td>\n",
              "      <td>NaN</td>\n",
              "      <td>7.0</td>\n",
              "      <td>7.00000</td>\n",
              "      <td>1</td>\n",
              "      <td>4</td>\n",
              "    </tr>\n",
              "  </tbody>\n",
              "</table>\n",
              "<p>5 rows × 44 columns</p>\n",
              "</div>\n",
              "    <div class=\"colab-df-buttons\">\n",
              "\n",
              "  <div class=\"colab-df-container\">\n",
              "    <button class=\"colab-df-convert\" onclick=\"convertToInteractive('df-a9e35ed4-99a0-421a-840c-dbb4d345a906')\"\n",
              "            title=\"Convert this dataframe to an interactive table.\"\n",
              "            style=\"display:none;\">\n",
              "\n",
              "  <svg xmlns=\"http://www.w3.org/2000/svg\" height=\"24px\" viewBox=\"0 -960 960 960\">\n",
              "    <path d=\"M120-120v-720h720v720H120Zm60-500h600v-160H180v160Zm220 220h160v-160H400v160Zm0 220h160v-160H400v160ZM180-400h160v-160H180v160Zm440 0h160v-160H620v160ZM180-180h160v-160H180v160Zm440 0h160v-160H620v160Z\"/>\n",
              "  </svg>\n",
              "    </button>\n",
              "\n",
              "  <style>\n",
              "    .colab-df-container {\n",
              "      display:flex;\n",
              "      gap: 12px;\n",
              "    }\n",
              "\n",
              "    .colab-df-convert {\n",
              "      background-color: #E8F0FE;\n",
              "      border: none;\n",
              "      border-radius: 50%;\n",
              "      cursor: pointer;\n",
              "      display: none;\n",
              "      fill: #1967D2;\n",
              "      height: 32px;\n",
              "      padding: 0 0 0 0;\n",
              "      width: 32px;\n",
              "    }\n",
              "\n",
              "    .colab-df-convert:hover {\n",
              "      background-color: #E2EBFA;\n",
              "      box-shadow: 0px 1px 2px rgba(60, 64, 67, 0.3), 0px 1px 3px 1px rgba(60, 64, 67, 0.15);\n",
              "      fill: #174EA6;\n",
              "    }\n",
              "\n",
              "    .colab-df-buttons div {\n",
              "      margin-bottom: 4px;\n",
              "    }\n",
              "\n",
              "    [theme=dark] .colab-df-convert {\n",
              "      background-color: #3B4455;\n",
              "      fill: #D2E3FC;\n",
              "    }\n",
              "\n",
              "    [theme=dark] .colab-df-convert:hover {\n",
              "      background-color: #434B5C;\n",
              "      box-shadow: 0px 1px 3px 1px rgba(0, 0, 0, 0.15);\n",
              "      filter: drop-shadow(0px 1px 2px rgba(0, 0, 0, 0.3));\n",
              "      fill: #FFFFFF;\n",
              "    }\n",
              "  </style>\n",
              "\n",
              "    <script>\n",
              "      const buttonEl =\n",
              "        document.querySelector('#df-a9e35ed4-99a0-421a-840c-dbb4d345a906 button.colab-df-convert');\n",
              "      buttonEl.style.display =\n",
              "        google.colab.kernel.accessAllowed ? 'block' : 'none';\n",
              "\n",
              "      async function convertToInteractive(key) {\n",
              "        const element = document.querySelector('#df-a9e35ed4-99a0-421a-840c-dbb4d345a906');\n",
              "        const dataTable =\n",
              "          await google.colab.kernel.invokeFunction('convertToInteractive',\n",
              "                                                    [key], {});\n",
              "        if (!dataTable) return;\n",
              "\n",
              "        const docLinkHtml = 'Like what you see? Visit the ' +\n",
              "          '<a target=\"_blank\" href=https://colab.research.google.com/notebooks/data_table.ipynb>data table notebook</a>'\n",
              "          + ' to learn more about interactive tables.';\n",
              "        element.innerHTML = '';\n",
              "        dataTable['output_type'] = 'display_data';\n",
              "        await google.colab.output.renderOutput(dataTable, element);\n",
              "        const docLink = document.createElement('div');\n",
              "        docLink.innerHTML = docLinkHtml;\n",
              "        element.appendChild(docLink);\n",
              "      }\n",
              "    </script>\n",
              "  </div>\n",
              "\n",
              "\n",
              "<div id=\"df-6ea88d3d-1a30-46bc-a861-659482ebc6e6\">\n",
              "  <button class=\"colab-df-quickchart\" onclick=\"quickchart('df-6ea88d3d-1a30-46bc-a861-659482ebc6e6')\"\n",
              "            title=\"Suggest charts\"\n",
              "            style=\"display:none;\">\n",
              "\n",
              "<svg xmlns=\"http://www.w3.org/2000/svg\" height=\"24px\"viewBox=\"0 0 24 24\"\n",
              "     width=\"24px\">\n",
              "    <g>\n",
              "        <path d=\"M19 3H5c-1.1 0-2 .9-2 2v14c0 1.1.9 2 2 2h14c1.1 0 2-.9 2-2V5c0-1.1-.9-2-2-2zM9 17H7v-7h2v7zm4 0h-2V7h2v10zm4 0h-2v-4h2v4z\"/>\n",
              "    </g>\n",
              "</svg>\n",
              "  </button>\n",
              "\n",
              "<style>\n",
              "  .colab-df-quickchart {\n",
              "      --bg-color: #E8F0FE;\n",
              "      --fill-color: #1967D2;\n",
              "      --hover-bg-color: #E2EBFA;\n",
              "      --hover-fill-color: #174EA6;\n",
              "      --disabled-fill-color: #AAA;\n",
              "      --disabled-bg-color: #DDD;\n",
              "  }\n",
              "\n",
              "  [theme=dark] .colab-df-quickchart {\n",
              "      --bg-color: #3B4455;\n",
              "      --fill-color: #D2E3FC;\n",
              "      --hover-bg-color: #434B5C;\n",
              "      --hover-fill-color: #FFFFFF;\n",
              "      --disabled-bg-color: #3B4455;\n",
              "      --disabled-fill-color: #666;\n",
              "  }\n",
              "\n",
              "  .colab-df-quickchart {\n",
              "    background-color: var(--bg-color);\n",
              "    border: none;\n",
              "    border-radius: 50%;\n",
              "    cursor: pointer;\n",
              "    display: none;\n",
              "    fill: var(--fill-color);\n",
              "    height: 32px;\n",
              "    padding: 0;\n",
              "    width: 32px;\n",
              "  }\n",
              "\n",
              "  .colab-df-quickchart:hover {\n",
              "    background-color: var(--hover-bg-color);\n",
              "    box-shadow: 0 1px 2px rgba(60, 64, 67, 0.3), 0 1px 3px 1px rgba(60, 64, 67, 0.15);\n",
              "    fill: var(--button-hover-fill-color);\n",
              "  }\n",
              "\n",
              "  .colab-df-quickchart-complete:disabled,\n",
              "  .colab-df-quickchart-complete:disabled:hover {\n",
              "    background-color: var(--disabled-bg-color);\n",
              "    fill: var(--disabled-fill-color);\n",
              "    box-shadow: none;\n",
              "  }\n",
              "\n",
              "  .colab-df-spinner {\n",
              "    border: 2px solid var(--fill-color);\n",
              "    border-color: transparent;\n",
              "    border-bottom-color: var(--fill-color);\n",
              "    animation:\n",
              "      spin 1s steps(1) infinite;\n",
              "  }\n",
              "\n",
              "  @keyframes spin {\n",
              "    0% {\n",
              "      border-color: transparent;\n",
              "      border-bottom-color: var(--fill-color);\n",
              "      border-left-color: var(--fill-color);\n",
              "    }\n",
              "    20% {\n",
              "      border-color: transparent;\n",
              "      border-left-color: var(--fill-color);\n",
              "      border-top-color: var(--fill-color);\n",
              "    }\n",
              "    30% {\n",
              "      border-color: transparent;\n",
              "      border-left-color: var(--fill-color);\n",
              "      border-top-color: var(--fill-color);\n",
              "      border-right-color: var(--fill-color);\n",
              "    }\n",
              "    40% {\n",
              "      border-color: transparent;\n",
              "      border-right-color: var(--fill-color);\n",
              "      border-top-color: var(--fill-color);\n",
              "    }\n",
              "    60% {\n",
              "      border-color: transparent;\n",
              "      border-right-color: var(--fill-color);\n",
              "    }\n",
              "    80% {\n",
              "      border-color: transparent;\n",
              "      border-right-color: var(--fill-color);\n",
              "      border-bottom-color: var(--fill-color);\n",
              "    }\n",
              "    90% {\n",
              "      border-color: transparent;\n",
              "      border-bottom-color: var(--fill-color);\n",
              "    }\n",
              "  }\n",
              "</style>\n",
              "\n",
              "  <script>\n",
              "    async function quickchart(key) {\n",
              "      const quickchartButtonEl =\n",
              "        document.querySelector('#' + key + ' button');\n",
              "      quickchartButtonEl.disabled = true;  // To prevent multiple clicks.\n",
              "      quickchartButtonEl.classList.add('colab-df-spinner');\n",
              "      try {\n",
              "        const charts = await google.colab.kernel.invokeFunction(\n",
              "            'suggestCharts', [key], {});\n",
              "      } catch (error) {\n",
              "        console.error('Error during call to suggestCharts:', error);\n",
              "      }\n",
              "      quickchartButtonEl.classList.remove('colab-df-spinner');\n",
              "      quickchartButtonEl.classList.add('colab-df-quickchart-complete');\n",
              "    }\n",
              "    (() => {\n",
              "      let quickchartButtonEl =\n",
              "        document.querySelector('#df-6ea88d3d-1a30-46bc-a861-659482ebc6e6 button');\n",
              "      quickchartButtonEl.style.display =\n",
              "        google.colab.kernel.accessAllowed ? 'block' : 'none';\n",
              "    })();\n",
              "  </script>\n",
              "</div>\n",
              "\n",
              "    </div>\n",
              "  </div>\n"
            ],
            "application/vnd.google.colaboratory.intrinsic+json": {
              "type": "dataframe",
              "variable_name": "df_dev"
            }
          },
          "metadata": {},
          "execution_count": 3
        }
      ],
      "source": [
        "df_dev = pd.read_csv(\"/content/drive/MyDrive/Colab Notebooks/DSL Project/development.csv\")\n",
        "df_ev = pd.read_csv(\"/content/drive/MyDrive/Colab Notebooks/DSL Project/evaluation.csv\")\n",
        "print('Size of the DataFrame', df_dev.shape)\n",
        "df_dev.head()"
      ]
    },
    {
      "cell_type": "code",
      "execution_count": 4,
      "metadata": {
        "colab": {
          "base_uri": "https://localhost:8080/",
          "height": 306
        },
        "id": "dGwXCPfYX6_b",
        "outputId": "e6a75898-db64-49db-9133-0a2f4797d044"
      },
      "outputs": [
        {
          "output_type": "stream",
          "name": "stdout",
          "text": [
            "Size of the DataFrame (1821, 43)\n"
          ]
        },
        {
          "output_type": "execute_result",
          "data": {
            "text/plain": [
              "        age     sex            dzgroup             dzclass  num.co   edu  \\\n",
              "0  75.70197    male               COPD  COPD/CHF/Cirrhosis       3  15.0   \n",
              "1  44.61600    male                CHF  COPD/CHF/Cirrhosis       2  16.0   \n",
              "2  66.43396    male  ARF/MOSF w/Sepsis            ARF/MOSF       4   NaN   \n",
              "3  50.97897    male                CHF  COPD/CHF/Cirrhosis       2  12.0   \n",
              "4  49.54999  female        Lung Cancer              Cancer       1  12.0   \n",
              "\n",
              "       income  scoma  charges      totcst  ...      crea    sod        ph  \\\n",
              "0    $11-$25k    0.0   8417.0   5477.2930  ...  1.299805  136.0  7.349609   \n",
              "1  under $11k    0.0  71501.0  34153.9062  ...  1.099854  126.0       NaN   \n",
              "2  under $11k    0.0  18040.0  11452.9219  ...  1.399902  139.0  7.389648   \n",
              "3    $11-$25k    0.0  20779.0  12855.9375  ...  0.599976  133.0  7.449219   \n",
              "4  under $11k    0.0  11291.0   8300.6562  ...  0.899902  139.0       NaN   \n",
              "\n",
              "   glucose   bun   urine  adlp  adls    adlsc  Id  \n",
              "0    175.0  42.0  1100.0   3.0   2.0  2.00000   0  \n",
              "1    106.0  19.0  2625.0   4.0   5.0  5.00000   1  \n",
              "2      NaN   NaN     NaN   NaN   NaN  3.20752   2  \n",
              "3    160.0  17.0  2065.0   0.0   2.0  2.00000   3  \n",
              "4     88.0  12.0     NaN   0.0   0.0  0.00000   4  \n",
              "\n",
              "[5 rows x 43 columns]"
            ],
            "text/html": [
              "\n",
              "  <div id=\"df-4ed107d8-d25f-4a68-8970-1b268aaac24f\" class=\"colab-df-container\">\n",
              "    <div>\n",
              "<style scoped>\n",
              "    .dataframe tbody tr th:only-of-type {\n",
              "        vertical-align: middle;\n",
              "    }\n",
              "\n",
              "    .dataframe tbody tr th {\n",
              "        vertical-align: top;\n",
              "    }\n",
              "\n",
              "    .dataframe thead th {\n",
              "        text-align: right;\n",
              "    }\n",
              "</style>\n",
              "<table border=\"1\" class=\"dataframe\">\n",
              "  <thead>\n",
              "    <tr style=\"text-align: right;\">\n",
              "      <th></th>\n",
              "      <th>age</th>\n",
              "      <th>sex</th>\n",
              "      <th>dzgroup</th>\n",
              "      <th>dzclass</th>\n",
              "      <th>num.co</th>\n",
              "      <th>edu</th>\n",
              "      <th>income</th>\n",
              "      <th>scoma</th>\n",
              "      <th>charges</th>\n",
              "      <th>totcst</th>\n",
              "      <th>...</th>\n",
              "      <th>crea</th>\n",
              "      <th>sod</th>\n",
              "      <th>ph</th>\n",
              "      <th>glucose</th>\n",
              "      <th>bun</th>\n",
              "      <th>urine</th>\n",
              "      <th>adlp</th>\n",
              "      <th>adls</th>\n",
              "      <th>adlsc</th>\n",
              "      <th>Id</th>\n",
              "    </tr>\n",
              "  </thead>\n",
              "  <tbody>\n",
              "    <tr>\n",
              "      <th>0</th>\n",
              "      <td>75.70197</td>\n",
              "      <td>male</td>\n",
              "      <td>COPD</td>\n",
              "      <td>COPD/CHF/Cirrhosis</td>\n",
              "      <td>3</td>\n",
              "      <td>15.0</td>\n",
              "      <td>$11-$25k</td>\n",
              "      <td>0.0</td>\n",
              "      <td>8417.0</td>\n",
              "      <td>5477.2930</td>\n",
              "      <td>...</td>\n",
              "      <td>1.299805</td>\n",
              "      <td>136.0</td>\n",
              "      <td>7.349609</td>\n",
              "      <td>175.0</td>\n",
              "      <td>42.0</td>\n",
              "      <td>1100.0</td>\n",
              "      <td>3.0</td>\n",
              "      <td>2.0</td>\n",
              "      <td>2.00000</td>\n",
              "      <td>0</td>\n",
              "    </tr>\n",
              "    <tr>\n",
              "      <th>1</th>\n",
              "      <td>44.61600</td>\n",
              "      <td>male</td>\n",
              "      <td>CHF</td>\n",
              "      <td>COPD/CHF/Cirrhosis</td>\n",
              "      <td>2</td>\n",
              "      <td>16.0</td>\n",
              "      <td>under $11k</td>\n",
              "      <td>0.0</td>\n",
              "      <td>71501.0</td>\n",
              "      <td>34153.9062</td>\n",
              "      <td>...</td>\n",
              "      <td>1.099854</td>\n",
              "      <td>126.0</td>\n",
              "      <td>NaN</td>\n",
              "      <td>106.0</td>\n",
              "      <td>19.0</td>\n",
              "      <td>2625.0</td>\n",
              "      <td>4.0</td>\n",
              "      <td>5.0</td>\n",
              "      <td>5.00000</td>\n",
              "      <td>1</td>\n",
              "    </tr>\n",
              "    <tr>\n",
              "      <th>2</th>\n",
              "      <td>66.43396</td>\n",
              "      <td>male</td>\n",
              "      <td>ARF/MOSF w/Sepsis</td>\n",
              "      <td>ARF/MOSF</td>\n",
              "      <td>4</td>\n",
              "      <td>NaN</td>\n",
              "      <td>under $11k</td>\n",
              "      <td>0.0</td>\n",
              "      <td>18040.0</td>\n",
              "      <td>11452.9219</td>\n",
              "      <td>...</td>\n",
              "      <td>1.399902</td>\n",
              "      <td>139.0</td>\n",
              "      <td>7.389648</td>\n",
              "      <td>NaN</td>\n",
              "      <td>NaN</td>\n",
              "      <td>NaN</td>\n",
              "      <td>NaN</td>\n",
              "      <td>NaN</td>\n",
              "      <td>3.20752</td>\n",
              "      <td>2</td>\n",
              "    </tr>\n",
              "    <tr>\n",
              "      <th>3</th>\n",
              "      <td>50.97897</td>\n",
              "      <td>male</td>\n",
              "      <td>CHF</td>\n",
              "      <td>COPD/CHF/Cirrhosis</td>\n",
              "      <td>2</td>\n",
              "      <td>12.0</td>\n",
              "      <td>$11-$25k</td>\n",
              "      <td>0.0</td>\n",
              "      <td>20779.0</td>\n",
              "      <td>12855.9375</td>\n",
              "      <td>...</td>\n",
              "      <td>0.599976</td>\n",
              "      <td>133.0</td>\n",
              "      <td>7.449219</td>\n",
              "      <td>160.0</td>\n",
              "      <td>17.0</td>\n",
              "      <td>2065.0</td>\n",
              "      <td>0.0</td>\n",
              "      <td>2.0</td>\n",
              "      <td>2.00000</td>\n",
              "      <td>3</td>\n",
              "    </tr>\n",
              "    <tr>\n",
              "      <th>4</th>\n",
              "      <td>49.54999</td>\n",
              "      <td>female</td>\n",
              "      <td>Lung Cancer</td>\n",
              "      <td>Cancer</td>\n",
              "      <td>1</td>\n",
              "      <td>12.0</td>\n",
              "      <td>under $11k</td>\n",
              "      <td>0.0</td>\n",
              "      <td>11291.0</td>\n",
              "      <td>8300.6562</td>\n",
              "      <td>...</td>\n",
              "      <td>0.899902</td>\n",
              "      <td>139.0</td>\n",
              "      <td>NaN</td>\n",
              "      <td>88.0</td>\n",
              "      <td>12.0</td>\n",
              "      <td>NaN</td>\n",
              "      <td>0.0</td>\n",
              "      <td>0.0</td>\n",
              "      <td>0.00000</td>\n",
              "      <td>4</td>\n",
              "    </tr>\n",
              "  </tbody>\n",
              "</table>\n",
              "<p>5 rows × 43 columns</p>\n",
              "</div>\n",
              "    <div class=\"colab-df-buttons\">\n",
              "\n",
              "  <div class=\"colab-df-container\">\n",
              "    <button class=\"colab-df-convert\" onclick=\"convertToInteractive('df-4ed107d8-d25f-4a68-8970-1b268aaac24f')\"\n",
              "            title=\"Convert this dataframe to an interactive table.\"\n",
              "            style=\"display:none;\">\n",
              "\n",
              "  <svg xmlns=\"http://www.w3.org/2000/svg\" height=\"24px\" viewBox=\"0 -960 960 960\">\n",
              "    <path d=\"M120-120v-720h720v720H120Zm60-500h600v-160H180v160Zm220 220h160v-160H400v160Zm0 220h160v-160H400v160ZM180-400h160v-160H180v160Zm440 0h160v-160H620v160ZM180-180h160v-160H180v160Zm440 0h160v-160H620v160Z\"/>\n",
              "  </svg>\n",
              "    </button>\n",
              "\n",
              "  <style>\n",
              "    .colab-df-container {\n",
              "      display:flex;\n",
              "      gap: 12px;\n",
              "    }\n",
              "\n",
              "    .colab-df-convert {\n",
              "      background-color: #E8F0FE;\n",
              "      border: none;\n",
              "      border-radius: 50%;\n",
              "      cursor: pointer;\n",
              "      display: none;\n",
              "      fill: #1967D2;\n",
              "      height: 32px;\n",
              "      padding: 0 0 0 0;\n",
              "      width: 32px;\n",
              "    }\n",
              "\n",
              "    .colab-df-convert:hover {\n",
              "      background-color: #E2EBFA;\n",
              "      box-shadow: 0px 1px 2px rgba(60, 64, 67, 0.3), 0px 1px 3px 1px rgba(60, 64, 67, 0.15);\n",
              "      fill: #174EA6;\n",
              "    }\n",
              "\n",
              "    .colab-df-buttons div {\n",
              "      margin-bottom: 4px;\n",
              "    }\n",
              "\n",
              "    [theme=dark] .colab-df-convert {\n",
              "      background-color: #3B4455;\n",
              "      fill: #D2E3FC;\n",
              "    }\n",
              "\n",
              "    [theme=dark] .colab-df-convert:hover {\n",
              "      background-color: #434B5C;\n",
              "      box-shadow: 0px 1px 3px 1px rgba(0, 0, 0, 0.15);\n",
              "      filter: drop-shadow(0px 1px 2px rgba(0, 0, 0, 0.3));\n",
              "      fill: #FFFFFF;\n",
              "    }\n",
              "  </style>\n",
              "\n",
              "    <script>\n",
              "      const buttonEl =\n",
              "        document.querySelector('#df-4ed107d8-d25f-4a68-8970-1b268aaac24f button.colab-df-convert');\n",
              "      buttonEl.style.display =\n",
              "        google.colab.kernel.accessAllowed ? 'block' : 'none';\n",
              "\n",
              "      async function convertToInteractive(key) {\n",
              "        const element = document.querySelector('#df-4ed107d8-d25f-4a68-8970-1b268aaac24f');\n",
              "        const dataTable =\n",
              "          await google.colab.kernel.invokeFunction('convertToInteractive',\n",
              "                                                    [key], {});\n",
              "        if (!dataTable) return;\n",
              "\n",
              "        const docLinkHtml = 'Like what you see? Visit the ' +\n",
              "          '<a target=\"_blank\" href=https://colab.research.google.com/notebooks/data_table.ipynb>data table notebook</a>'\n",
              "          + ' to learn more about interactive tables.';\n",
              "        element.innerHTML = '';\n",
              "        dataTable['output_type'] = 'display_data';\n",
              "        await google.colab.output.renderOutput(dataTable, element);\n",
              "        const docLink = document.createElement('div');\n",
              "        docLink.innerHTML = docLinkHtml;\n",
              "        element.appendChild(docLink);\n",
              "      }\n",
              "    </script>\n",
              "  </div>\n",
              "\n",
              "\n",
              "<div id=\"df-8deced0d-428f-43d7-a747-151d412135cb\">\n",
              "  <button class=\"colab-df-quickchart\" onclick=\"quickchart('df-8deced0d-428f-43d7-a747-151d412135cb')\"\n",
              "            title=\"Suggest charts\"\n",
              "            style=\"display:none;\">\n",
              "\n",
              "<svg xmlns=\"http://www.w3.org/2000/svg\" height=\"24px\"viewBox=\"0 0 24 24\"\n",
              "     width=\"24px\">\n",
              "    <g>\n",
              "        <path d=\"M19 3H5c-1.1 0-2 .9-2 2v14c0 1.1.9 2 2 2h14c1.1 0 2-.9 2-2V5c0-1.1-.9-2-2-2zM9 17H7v-7h2v7zm4 0h-2V7h2v10zm4 0h-2v-4h2v4z\"/>\n",
              "    </g>\n",
              "</svg>\n",
              "  </button>\n",
              "\n",
              "<style>\n",
              "  .colab-df-quickchart {\n",
              "      --bg-color: #E8F0FE;\n",
              "      --fill-color: #1967D2;\n",
              "      --hover-bg-color: #E2EBFA;\n",
              "      --hover-fill-color: #174EA6;\n",
              "      --disabled-fill-color: #AAA;\n",
              "      --disabled-bg-color: #DDD;\n",
              "  }\n",
              "\n",
              "  [theme=dark] .colab-df-quickchart {\n",
              "      --bg-color: #3B4455;\n",
              "      --fill-color: #D2E3FC;\n",
              "      --hover-bg-color: #434B5C;\n",
              "      --hover-fill-color: #FFFFFF;\n",
              "      --disabled-bg-color: #3B4455;\n",
              "      --disabled-fill-color: #666;\n",
              "  }\n",
              "\n",
              "  .colab-df-quickchart {\n",
              "    background-color: var(--bg-color);\n",
              "    border: none;\n",
              "    border-radius: 50%;\n",
              "    cursor: pointer;\n",
              "    display: none;\n",
              "    fill: var(--fill-color);\n",
              "    height: 32px;\n",
              "    padding: 0;\n",
              "    width: 32px;\n",
              "  }\n",
              "\n",
              "  .colab-df-quickchart:hover {\n",
              "    background-color: var(--hover-bg-color);\n",
              "    box-shadow: 0 1px 2px rgba(60, 64, 67, 0.3), 0 1px 3px 1px rgba(60, 64, 67, 0.15);\n",
              "    fill: var(--button-hover-fill-color);\n",
              "  }\n",
              "\n",
              "  .colab-df-quickchart-complete:disabled,\n",
              "  .colab-df-quickchart-complete:disabled:hover {\n",
              "    background-color: var(--disabled-bg-color);\n",
              "    fill: var(--disabled-fill-color);\n",
              "    box-shadow: none;\n",
              "  }\n",
              "\n",
              "  .colab-df-spinner {\n",
              "    border: 2px solid var(--fill-color);\n",
              "    border-color: transparent;\n",
              "    border-bottom-color: var(--fill-color);\n",
              "    animation:\n",
              "      spin 1s steps(1) infinite;\n",
              "  }\n",
              "\n",
              "  @keyframes spin {\n",
              "    0% {\n",
              "      border-color: transparent;\n",
              "      border-bottom-color: var(--fill-color);\n",
              "      border-left-color: var(--fill-color);\n",
              "    }\n",
              "    20% {\n",
              "      border-color: transparent;\n",
              "      border-left-color: var(--fill-color);\n",
              "      border-top-color: var(--fill-color);\n",
              "    }\n",
              "    30% {\n",
              "      border-color: transparent;\n",
              "      border-left-color: var(--fill-color);\n",
              "      border-top-color: var(--fill-color);\n",
              "      border-right-color: var(--fill-color);\n",
              "    }\n",
              "    40% {\n",
              "      border-color: transparent;\n",
              "      border-right-color: var(--fill-color);\n",
              "      border-top-color: var(--fill-color);\n",
              "    }\n",
              "    60% {\n",
              "      border-color: transparent;\n",
              "      border-right-color: var(--fill-color);\n",
              "    }\n",
              "    80% {\n",
              "      border-color: transparent;\n",
              "      border-right-color: var(--fill-color);\n",
              "      border-bottom-color: var(--fill-color);\n",
              "    }\n",
              "    90% {\n",
              "      border-color: transparent;\n",
              "      border-bottom-color: var(--fill-color);\n",
              "    }\n",
              "  }\n",
              "</style>\n",
              "\n",
              "  <script>\n",
              "    async function quickchart(key) {\n",
              "      const quickchartButtonEl =\n",
              "        document.querySelector('#' + key + ' button');\n",
              "      quickchartButtonEl.disabled = true;  // To prevent multiple clicks.\n",
              "      quickchartButtonEl.classList.add('colab-df-spinner');\n",
              "      try {\n",
              "        const charts = await google.colab.kernel.invokeFunction(\n",
              "            'suggestCharts', [key], {});\n",
              "      } catch (error) {\n",
              "        console.error('Error during call to suggestCharts:', error);\n",
              "      }\n",
              "      quickchartButtonEl.classList.remove('colab-df-spinner');\n",
              "      quickchartButtonEl.classList.add('colab-df-quickchart-complete');\n",
              "    }\n",
              "    (() => {\n",
              "      let quickchartButtonEl =\n",
              "        document.querySelector('#df-8deced0d-428f-43d7-a747-151d412135cb button');\n",
              "      quickchartButtonEl.style.display =\n",
              "        google.colab.kernel.accessAllowed ? 'block' : 'none';\n",
              "    })();\n",
              "  </script>\n",
              "</div>\n",
              "\n",
              "    </div>\n",
              "  </div>\n"
            ],
            "application/vnd.google.colaboratory.intrinsic+json": {
              "type": "dataframe",
              "variable_name": "df_ev"
            }
          },
          "metadata": {},
          "execution_count": 4
        }
      ],
      "source": [
        "print('Size of the DataFrame', df_ev.shape)\n",
        "df_ev.head()"
      ]
    },
    {
      "cell_type": "markdown",
      "metadata": {
        "id": "bzYT4-BYj-1i"
      },
      "source": [
        "**The next step is to find missing values**"
      ]
    },
    {
      "cell_type": "code",
      "execution_count": 5,
      "metadata": {
        "colab": {
          "base_uri": "https://localhost:8080/",
          "height": 607
        },
        "id": "6wiGZPy6j-K3",
        "outputId": "21f7f8d7-ef41-45c7-b16c-dd189462db38"
      },
      "outputs": [
        {
          "output_type": "display_data",
          "data": {
            "text/plain": [
              "<Figure size 1200x600 with 1 Axes>"
            ],
            "image/png": "[encoded data removed]"
          },
          "metadata": {}
        }
      ],
      "source": [
        "counts = df_dev.drop(['Id', 'death'], axis=1).isna().sum()\n",
        "\n",
        "plt.figure(figsize=(12, 6))\n",
        "counts[counts > 0].plot(kind='bar', color='blue')\n",
        "plt.title('NaN values in each feature in the development set')\n",
        "plt.xlabel('Categories')\n",
        "plt.ylabel('Total NaN Values')\n",
        "plt.xticks(rotation=45, ha='right')\n",
        "plt.tight_layout()\n",
        "plt.show()"
      ]
    },
    {
      "cell_type": "code",
      "source": [
        "counts = df_ev.drop(['Id'], axis=1).isna().sum()\n",
        "\n",
        "plt.figure(figsize=(12, 6))\n",
        "counts[counts > 0].plot(kind='bar', color='blue')\n",
        "plt.title('NaN values in each feature in the evaluation set')\n",
        "plt.xlabel('Categories')\n",
        "plt.ylabel('Total NaN Values')\n",
        "plt.xticks(rotation=45, ha='right')\n",
        "plt.tight_layout()\n",
        "plt.show()"
      ],
      "metadata": {
        "colab": {
          "base_uri": "https://localhost:8080/",
          "height": 607
        },
        "id": "7Lwl-tWxOqqN",
        "outputId": "802b0351-b811-496b-9da6-11a2b0b582db"
      },
      "execution_count": 6,
      "outputs": [
        {
          "output_type": "display_data",
          "data": {
            "text/plain": [
              "<Figure size 1200x600 with 1 Axes>"
            ],
            "image/png": "[encoded data removed]"
          },
          "metadata": {}
        }
      ]
    },
    {
      "cell_type": "markdown",
      "source": [
        "**Finding qualitative attributes in the dataset**"
      ],
      "metadata": {
        "id": "Hr3AvYyl5pTS"
      }
    },
    {
      "cell_type": "code",
      "source": [
        "quantitative = df_dev.drop(columns = ['Id', 'death']).select_dtypes(include = ['number']).columns\n",
        "qualitative = df_dev.drop(columns = quantitative)\n",
        "print(qualitative.drop(columns = ['Id', 'death']).columns)"
      ],
      "metadata": {
        "colab": {
          "base_uri": "https://localhost:8080/"
        },
        "id": "1qIeB7JD5oq5",
        "outputId": "68cadde8-b532-4c52-c4f8-7179688b641d"
      },
      "execution_count": null,
      "outputs": [
        {
          "output_type": "stream",
          "name": "stdout",
          "text": [
            "Index(['sex', 'dzgroup', 'dzclass', 'income', 'race', 'ca', 'dnr'], dtype='object')\n"
          ]
        }
      ]
    },
    {
      "cell_type": "markdown",
      "metadata": {
        "id": "rvDiuWn4TPRu"
      },
      "source": [
        "**Correlations and plots**\n",
        "\n"
      ]
    },
    {
      "cell_type": "code",
      "execution_count": 7,
      "metadata": {
        "colab": {
          "base_uri": "https://localhost:8080/",
          "height": 565
        },
        "id": "bGo_VcDNxUHz",
        "outputId": "99802807-da4e-473d-8dd8-d6bad7ec6b87"
      },
      "outputs": [
        {
          "output_type": "display_data",
          "data": {
            "text/plain": [
              "<Figure size 1200x600 with 1 Axes>"
            ],
            "image/png": "[encoded data removed]"
          },
          "metadata": {}
        }
      ],
      "source": [
        "#Correlation between income, charges and death\n",
        "\n",
        "plt.figure(figsize=(12, 6))\n",
        "sns.scatterplot(x='income', y='charges', hue='death', data=df_dev)\n",
        "plt.title('Scatter plot of Charges vs Income')\n",
        "plt.xlabel('Income')\n",
        "plt.ylabel('Charges')\n",
        "plt.show()"
      ]
    },
    {
      "cell_type": "code",
      "execution_count": null,
      "metadata": {
        "colab": {
          "base_uri": "https://localhost:8080/"
        },
        "id": "C_GK-l0C2rJo",
        "outputId": "ff8d0335-9645-4390-c75e-5ffb24bdcdbd"
      },
      "outputs": [
        {
          "output_type": "stream",
          "name": "stdout",
          "text": [
            "Point-biserial correlation: 0.012348738713025484\n",
            "P-value: 0.8453436361662184\n"
          ]
        }
      ],
      "source": [
        "#Correlation between education and death\n",
        "\n",
        "df = df_dev.copy()\n",
        "df.dropna(inplace=True)\n",
        "correlation, p_value = pointbiserialr(df['edu'], df['death'])\n",
        "\n",
        "print(\"Point-biserial correlation:\", correlation)\n",
        "print(\"P-value:\", p_value)"
      ]
    },
    {
      "cell_type": "code",
      "source": [
        "features_to_drop = ['Id', 'death']\n",
        "X = df_dev.drop(features_to_drop, axis=1)\n",
        "y = df_dev['death']\n",
        "\n",
        "encodeColumns = ['dzgroup', 'ca', 'dnr', 'sex', 'race']\n",
        "X = pd.get_dummies(df_dev, columns=encodeColumns).drop(columns = ['income', 'scoma', 'hday', 'dnrday', 'pafi', 'dzclass'])\n",
        "\n",
        "with warnings.catch_warnings():\n",
        "    # Initialize KNN imputer\n",
        "    imputer = SimpleImputer(strategy = 'mean')\n",
        "\n",
        "    # Fit and transform the data\n",
        "    X_imputed = imputer.fit_transform(X)\n",
        "\n",
        "    # Convert back to a pandas DataFrame (if necessary)\n",
        "    X_imputed = pd.DataFrame(X_imputed, columns=X.columns)\n",
        "    warnings.simplefilter(\"ignore\")\n",
        "    model = sm.Logit(y, X_imputed)\n",
        "    result = model.fit()\n",
        "    print(\"Death p-value: \", result.pvalues['edu'])\n"
      ],
      "metadata": {
        "colab": {
          "base_uri": "https://localhost:8080/"
        },
        "id": "XqlU3H7JIrJJ",
        "outputId": "f3d17832-5773-4bdb-caba-e8f1d9deaed2"
      },
      "execution_count": 10,
      "outputs": [
        {
          "output_type": "stream",
          "name": "stdout",
          "text": [
            "Warning: Maximum number of iterations has been exceeded.\n",
            "         Current function value: 0.000000\n",
            "         Iterations: 35\n",
            "Death p-value:  0.9951653859865552\n"
          ]
        }
      ]
    },
    {
      "cell_type": "code",
      "execution_count": null,
      "metadata": {
        "colab": {
          "base_uri": "https://localhost:8080/",
          "height": 179
        },
        "id": "X8v4gXya4Lf1",
        "outputId": "51ff374e-94ea-49b5-a959-4a4c8a8a2525"
      },
      "outputs": [
        {
          "output_type": "display_data",
          "data": {
            "text/plain": [
              "<Figure size 1000x100 with 1 Axes>"
            ],
            "image/png": "[encoded data removed]"
          },
          "metadata": {}
        }
      ],
      "source": [
        "#Analysis of the values in the scoma column\n",
        "counts = df_dev['scoma'].value_counts()\n",
        "\n",
        "\n",
        "y_values = [0] * len(df_dev)\n",
        "plt.figure(figsize=(10, 1))\n",
        "plt.scatter(df_dev['scoma'], y_values, alpha=0.5)\n",
        "plt.xticks(sorted(set(counts.keys())))\n",
        "plt.title('Scatter plot of scoma')\n",
        "plt.xlabel('scoma')\n",
        "plt.ylabel('')\n",
        "plt.gca().axes.get_yaxis().set_visible(False)\n",
        "plt.show()"
      ]
    },
    {
      "cell_type": "markdown",
      "metadata": {
        "id": "yLrlQVcdEE0A"
      },
      "source": [
        "**REMOVING FEATURES**"
      ]
    },
    {
      "cell_type": "code",
      "execution_count": 12,
      "metadata": {
        "colab": {
          "base_uri": "https://localhost:8080/"
        },
        "id": "pwDN_4xrEKZf",
        "outputId": "9246bdfc-78a6-41f8-d740-18a85752ed70"
      },
      "outputs": [
        {
          "output_type": "stream",
          "name": "stdout",
          "text": [
            "Number of removed columns:  7\n",
            "Number of columns in the set after removal:  (7284, 53)\n"
          ]
        }
      ],
      "source": [
        "encodeColumns = ['dzgroup', 'ca', 'dnr', 'sex', 'race']\n",
        "\n",
        "df_dev = pd.get_dummies(df_dev, columns=encodeColumns)\n",
        "removeColumns = ['edu', 'income', 'scoma', 'hday', 'dnrday', 'pafi', 'dzclass']\n",
        "\n",
        "print('Number of removed columns: ', len(removeColumns))\n",
        "\n",
        "df_dev = df_dev.drop(columns = removeColumns)\n",
        "df_ev = df_ev.drop(columns = removeColumns)\n",
        "\n",
        "print('Number of columns in the set after removal: ', df_dev.shape)\n"
      ]
    },
    {
      "cell_type": "markdown",
      "metadata": {
        "id": "9Pf7AksFtq_M"
      },
      "source": [
        "##**RANDOM FOREST CLASSIFIER**"
      ]
    },
    {
      "cell_type": "code",
      "execution_count": null,
      "metadata": {
        "id": "lebAo1AgIeto"
      },
      "outputs": [],
      "source": [
        "X = df_dev.drop(columns = [\"death\", \"Id\"])\n",
        "y = df_dev[\"death\"]"
      ]
    },
    {
      "cell_type": "markdown",
      "metadata": {
        "id": "ChCUAqKsqlyz"
      },
      "source": [
        "##**TRYING PCA**"
      ]
    },
    {
      "cell_type": "code",
      "execution_count": 14,
      "metadata": {
        "colab": {
          "base_uri": "https://localhost:8080/",
          "height": 444
        },
        "id": "ogtGuqE_q2cR",
        "outputId": "230956d4-6d04-4ea9-c9e1-d26ff7548d41"
      },
      "outputs": [
        {
          "output_type": "display_data",
          "data": {
            "text/plain": [
              "<Figure size 2000x500 with 1 Axes>"
            ],
            "image/png": "[encoded data removed]"
          },
          "metadata": {}
        },
        {
          "output_type": "display_data",
          "data": {
            "text/plain": [
              "<Figure size 640x480 with 0 Axes>"
            ]
          },
          "metadata": {}
        }
      ],
      "source": [
        "df_dev = pd.read_csv(\"/content/drive/MyDrive/Colab Notebooks/DSL Project/development.csv\")\n",
        "df_dev = df_dev.drop(columns = removeColumns)\n",
        "df_dev = pd.get_dummies(df_dev, columns=encodeColumns)\n",
        "\n",
        "X = df_dev.drop(columns = [\"death\", \"Id\"])\n",
        "y = df_dev[\"death\"]\n",
        "\n",
        "imputer = SimpleImputer(strategy='mean')\n",
        "X = imputer.fit_transform(X)\n",
        "\n",
        "scaler = StandardScaler()\n",
        "X = scaler.fit_transform(X)\n",
        "\n",
        "pca = PCA()\n",
        "pca.fit(X)\n",
        "\n",
        "explained_variance = pca.explained_variance_ratio_\n",
        "cumulative_explained_variance = np.cumsum(explained_variance)\n",
        "\n",
        "plt.figure(figsize=(20, 5))\n",
        "ax = plt.subplot(1, 1, 1)\n",
        "plt.subplots_adjust(left=0.15, bottom=0.15, right=0.9, top=0.9)\n",
        "plt.plot(range(1, len(pca.explained_variance_ratio_) + 1), pca.explained_variance_ratio_, 'b-', label='Explained variance', linewidth=2)\n",
        "plt.plot(range(1, len(cumulative_explained_variance) + 1), cumulative_explained_variance, 'g-', label='Cumulative explained variance', linewidth=2)\n",
        "plt.ylim([0, 1.1])\n",
        "plt.xticks(ticks = np.arange(pca.n_components_), labels = [f'{i+1}' for i in range(pca.n_components_)], )\n",
        "plt.xlabel('Principal components')\n",
        "plt.ylabel('Explained variance ratio')\n",
        "plt.title('Explained variance PCA')\n",
        "plt.xlabel(\"PCs\")\n",
        "plt.ylabel(\"Cumulative Explained Variance\")\n",
        "plt.legend(loc='best')\n",
        "plt.grid(True)\n",
        "plt.grid('on')\n",
        "plt.show()\n",
        "\n",
        "plt.tight_layout()\n",
        "plt.show()"
      ]
    },
    {
      "cell_type": "markdown",
      "metadata": {
        "id": "luDxzugvWkLU"
      },
      "source": [
        "**Computing final result**"
      ]
    },
    {
      "cell_type": "code",
      "execution_count": 20,
      "metadata": {
        "id": "zCDoWIbvWD2t"
      },
      "outputs": [],
      "source": [
        "df_ev = pd.read_csv(\"/content/drive/MyDrive/Colab Notebooks/DSL Project/evaluation.csv\")\n",
        "\n",
        "df_ev = df_ev.drop(columns = removeColumns)\n",
        "df_ev = pd.get_dummies(df_ev, columns=encodeColumns)\n",
        "\n",
        "X_final_test = df_ev.drop(columns = [\"Id\"])\n",
        "\n",
        "imputer = SimpleImputer(strategy='mean')\n",
        "X_final_test = imputer.fit_transform(X_final_test)\n",
        "\n",
        "scaler = StandardScaler()\n",
        "X_final_test = scaler.fit_transform(X_final_test)\n",
        "\n",
        "pca = PCA(30)\n",
        "pca.fit(X_final_test)\n",
        "X_final_test_PCA = pca.fit_transform(X_final_test)\n",
        "X = pca.fit_transform(X)\n",
        "\n",
        "model_PCA = RandomForestClassifier()\n",
        "model_PCA.fit(X, y)\n",
        "\n",
        "y_test = model_PCA.predict(X_final_test_PCA)\n",
        "\n",
        "model_KNN = KNeighborsClassifier()\n",
        "model_KNN.fit(X, y)\n",
        "y_test_KNN = model_KNN.predict(X_final_test_PCA)"
      ]
    },
    {
      "cell_type": "code",
      "execution_count": null,
      "metadata": {
        "id": "WaWzyXfOaGOe"
      },
      "outputs": [],
      "source": [
        "predicted = pd.DataFrame({'Id': df_ev[\"Id\"].values, 'Predicted': y_test})\n",
        "predicted.to_csv(\"/content/drive/MyDrive/Colab Notebooks/DSL Project/output_PCA_RF.csv\", index = False, header = [\"Id\", \"Predicted\"])\n",
        "\n",
        "predicted = pd.DataFrame({'Id': df_ev[\"Id\"].values, 'Predicted': y_test_KNN})\n",
        "predicted.to_csv(\"/content/drive/MyDrive/Colab Notebooks/DSL Project/output_PCA_KNN.csv\", index = False, header = [\"Id\", \"Predicted\"])"
      ]
    },
    {
      "cell_type": "markdown",
      "metadata": {
        "id": "YK1a3RZgwdza"
      },
      "source": [
        "##**TRYING DEALING WITH NAN**"
      ]
    },
    {
      "cell_type": "code",
      "execution_count": 22,
      "metadata": {
        "id": "1qTwXl-dwkZk"
      },
      "outputs": [],
      "source": [
        "df_dev = pd.read_csv(\"/content/drive/MyDrive/Colab Notebooks/DSL Project/development.csv\")\n",
        "\n",
        "encodeColumns = ['dzgroup', 'ca', 'dnr', 'sex', 'race']\n",
        "df_dev = pd.get_dummies(df_dev, columns=encodeColumns)\n",
        "removeColumns = ['edu', 'income', 'scoma', 'hday', 'dnrday', 'pafi', 'dzclass']\n",
        "\n",
        "df_dev = df_dev.drop(columns = removeColumns)\n",
        "X = df_dev.drop(columns = [\"death\", \"Id\"])\n",
        "y = df_dev[\"death\"]\n",
        "\n",
        "imputer = SimpleImputer(strategy='mean')\n",
        "X = imputer.fit_transform(X)"
      ]
    },
    {
      "cell_type": "code",
      "execution_count": null,
      "metadata": {
        "colab": {
          "base_uri": "https://localhost:8080/",
          "height": 118
        },
        "id": "S0qxA7pkCnbV",
        "outputId": "cc2a9eaa-dc69-41e1-b46d-5ab2288e36be"
      },
      "outputs": [
        {
          "output_type": "execute_result",
          "data": {
            "text/plain": [
              "GridSearchCV(cv=10, estimator=RandomForestClassifier(), n_jobs=-1,\n",
              "             param_grid={'criterion': ['gini', 'entropy', 'log_loss'],\n",
              "                         'max_features': ['sqrt', 'log2'],\n",
              "                         'n_estimators': [200, 225, 250], 'n_jobs': [-1],\n",
              "                         'random_state': [42]},\n",
              "             scoring='f1_macro')"
            ],
            "text/html": [
              "<style>#sk-container-id-10 {color: black;background-color: white;}#sk-container-id-10 pre{padding: 0;}#sk-container-id-10 div.sk-toggleable {background-color: white;}#sk-container-id-10 label.sk-toggleable__label {cursor: pointer;display: block;width: 100%;margin-bottom: 0;padding: 0.3em;box-sizing: border-box;text-align: center;}#sk-container-id-10 label.sk-toggleable__label-arrow:before {content: \"▸\";float: left;margin-right: 0.25em;color: #696969;}#sk-container-id-10 label.sk-toggleable__label-arrow:hover:before {color: black;}#sk-container-id-10 div.sk-estimator:hover label.sk-toggleable__label-arrow:before {color: black;}#sk-container-id-10 div.sk-toggleable__content {max-height: 0;max-width: 0;overflow: hidden;text-align: left;background-color: #f0f8ff;}#sk-container-id-10 div.sk-toggleable__content pre {margin: 0.2em;color: black;border-radius: 0.25em;background-color: #f0f8ff;}#sk-container-id-10 input.sk-toggleable__control:checked~div.sk-toggleable__content {max-height: 200px;max-width: 100%;overflow: auto;}#sk-container-id-10 input.sk-toggleable__control:checked~label.sk-toggleable__label-arrow:before {content: \"▾\";}#sk-container-id-10 div.sk-estimator input.sk-toggleable__control:checked~label.sk-toggleable__label {background-color: #d4ebff;}#sk-container-id-10 div.sk-label input.sk-toggleable__control:checked~label.sk-toggleable__label {background-color: #d4ebff;}#sk-container-id-10 input.sk-hidden--visually {border: 0;clip: rect(1px 1px 1px 1px);clip: rect(1px, 1px, 1px, 1px);height: 1px;margin: -1px;overflow: hidden;padding: 0;position: absolute;width: 1px;}#sk-container-id-10 div.sk-estimator {font-family: monospace;background-color: #f0f8ff;border: 1px dotted black;border-radius: 0.25em;box-sizing: border-box;margin-bottom: 0.5em;}#sk-container-id-10 div.sk-estimator:hover {background-color: #d4ebff;}#sk-container-id-10 div.sk-parallel-item::after {content: \"\";width: 100%;border-bottom: 1px solid gray;flex-grow: 1;}#sk-container-id-10 div.sk-label:hover label.sk-toggleable__label {background-color: #d4ebff;}#sk-container-id-10 div.sk-serial::before {content: \"\";position: absolute;border-left: 1px solid gray;box-sizing: border-box;top: 0;bottom: 0;left: 50%;z-index: 0;}#sk-container-id-10 div.sk-serial {display: flex;flex-direction: column;align-items: center;background-color: white;padding-right: 0.2em;padding-left: 0.2em;position: relative;}#sk-container-id-10 div.sk-item {position: relative;z-index: 1;}#sk-container-id-10 div.sk-parallel {display: flex;align-items: stretch;justify-content: center;background-color: white;position: relative;}#sk-container-id-10 div.sk-item::before, #sk-container-id-10 div.sk-parallel-item::before {content: \"\";position: absolute;border-left: 1px solid gray;box-sizing: border-box;top: 0;bottom: 0;left: 50%;z-index: -1;}#sk-container-id-10 div.sk-parallel-item {display: flex;flex-direction: column;z-index: 1;position: relative;background-color: white;}#sk-container-id-10 div.sk-parallel-item:first-child::after {align-self: flex-end;width: 50%;}#sk-container-id-10 div.sk-parallel-item:last-child::after {align-self: flex-start;width: 50%;}#sk-container-id-10 div.sk-parallel-item:only-child::after {width: 0;}#sk-container-id-10 div.sk-dashed-wrapped {border: 1px dashed gray;margin: 0 0.4em 0.5em 0.4em;box-sizing: border-box;padding-bottom: 0.4em;background-color: white;}#sk-container-id-10 div.sk-label label {font-family: monospace;font-weight: bold;display: inline-block;line-height: 1.2em;}#sk-container-id-10 div.sk-label-container {text-align: center;}#sk-container-id-10 div.sk-container {/* jupyter's `normalize.less` sets `[hidden] { display: none; }` but bootstrap.min.css set `[hidden] { display: none !important; }` so we also need the `!important` here to be able to override the default hidden behavior on the sphinx rendered scikit-learn.org. See: https://github.com/scikit-learn/scikit-learn/issues/21755 */display: inline-block !important;position: relative;}#sk-container-id-10 div.sk-text-repr-fallback {display: none;}</style><div id=\"sk-container-id-10\" class=\"sk-top-container\"><div class=\"sk-text-repr-fallback\"><pre>GridSearchCV(cv=10, estimator=RandomForestClassifier(), n_jobs=-1,\n",
              "             param_grid={&#x27;criterion&#x27;: [&#x27;gini&#x27;, &#x27;entropy&#x27;, &#x27;log_loss&#x27;],\n",
              "                         &#x27;max_features&#x27;: [&#x27;sqrt&#x27;, &#x27;log2&#x27;],\n",
              "                         &#x27;n_estimators&#x27;: [200, 225, 250], &#x27;n_jobs&#x27;: [-1],\n",
              "                         &#x27;random_state&#x27;: [42]},\n",
              "             scoring=&#x27;f1_macro&#x27;)</pre><b>In a Jupyter environment, please rerun this cell to show the HTML representation or trust the notebook. <br />On GitHub, the HTML representation is unable to render, please try loading this page with nbviewer.org.</b></div><div class=\"sk-container\" hidden><div class=\"sk-item sk-dashed-wrapped\"><div class=\"sk-label-container\"><div class=\"sk-label sk-toggleable\"><input class=\"sk-toggleable__control sk-hidden--visually\" id=\"sk-estimator-id-28\" type=\"checkbox\" ><label for=\"sk-estimator-id-28\" class=\"sk-toggleable__label sk-toggleable__label-arrow\">GridSearchCV</label><div class=\"sk-toggleable__content\"><pre>GridSearchCV(cv=10, estimator=RandomForestClassifier(), n_jobs=-1,\n",
              "             param_grid={&#x27;criterion&#x27;: [&#x27;gini&#x27;, &#x27;entropy&#x27;, &#x27;log_loss&#x27;],\n",
              "                         &#x27;max_features&#x27;: [&#x27;sqrt&#x27;, &#x27;log2&#x27;],\n",
              "                         &#x27;n_estimators&#x27;: [200, 225, 250], &#x27;n_jobs&#x27;: [-1],\n",
              "                         &#x27;random_state&#x27;: [42]},\n",
              "             scoring=&#x27;f1_macro&#x27;)</pre></div></div></div><div class=\"sk-parallel\"><div class=\"sk-parallel-item\"><div class=\"sk-item\"><div class=\"sk-label-container\"><div class=\"sk-label sk-toggleable\"><input class=\"sk-toggleable__control sk-hidden--visually\" id=\"sk-estimator-id-29\" type=\"checkbox\" ><label for=\"sk-estimator-id-29\" class=\"sk-toggleable__label sk-toggleable__label-arrow\">estimator: RandomForestClassifier</label><div class=\"sk-toggleable__content\"><pre>RandomForestClassifier()</pre></div></div></div><div class=\"sk-serial\"><div class=\"sk-item\"><div class=\"sk-estimator sk-toggleable\"><input class=\"sk-toggleable__control sk-hidden--visually\" id=\"sk-estimator-id-30\" type=\"checkbox\" ><label for=\"sk-estimator-id-30\" class=\"sk-toggleable__label sk-toggleable__label-arrow\">RandomForestClassifier</label><div class=\"sk-toggleable__content\"><pre>RandomForestClassifier()</pre></div></div></div></div></div></div></div></div></div></div>"
            ]
          },
          "metadata": {},
          "execution_count": 146
        }
      ],
      "source": [
        "params = {\n",
        "    'n_estimators': [200, 225, 250],\n",
        "    'criterion': ['gini', 'entropy', 'log_loss'],\n",
        "    'max_features': ['sqrt', 'log2'],\n",
        "    'random_state': [42],\n",
        "    'n_jobs': [-1],\n",
        "}\n",
        "\n",
        "clf = RandomForestClassifier()\n",
        "gs = GridSearchCV(clf, params, scoring = 'f1_macro', n_jobs = -1, cv = 10)\n",
        "gs.fit(X, y)"
      ]
    },
    {
      "cell_type": "code",
      "execution_count": null,
      "metadata": {
        "colab": {
          "base_uri": "https://localhost:8080/"
        },
        "id": "lzF0T-pN56mK",
        "outputId": "c89d894c-fe6a-4ea6-9ca0-fa3abd678003"
      },
      "outputs": [
        {
          "output_type": "execute_result",
          "data": {
            "text/plain": [
              "{'criterion': 'gini',\n",
              " 'max_features': 'log2',\n",
              " 'n_estimators': 250,\n",
              " 'n_jobs': -1,\n",
              " 'random_state': 42}"
            ]
          },
          "metadata": {},
          "execution_count": 148
        }
      ],
      "source": [
        "gs.best_params_"
      ]
    },
    {
      "cell_type": "code",
      "execution_count": 35,
      "metadata": {
        "id": "KYyyD6hQxR0D",
        "colab": {
          "base_uri": "https://localhost:8080/"
        },
        "outputId": "0df91d6b-aacc-407b-ac02-7bb78318493c"
      },
      "outputs": [
        {
          "output_type": "stream",
          "name": "stdout",
          "text": [
            "Cross-validation F1 score: 0.7544616491953344\n",
            "Cross-validation F1 score: 0.7562696359165719\n"
          ]
        }
      ],
      "source": [
        "best_model = RandomForestClassifier(criterion='gini', max_features='log2', n_estimators=250, bootstrap=True, n_jobs=-1, random_state=42)\n",
        "cv = StratifiedKFold(n_splits=10, shuffle=True, random_state=42)\n",
        "cv_scores = cross_val_score(best_model, X, y, cv=cv, scoring='f1_macro')\n",
        "print(\"Cross-validation F1 score: \", np.max(cv_scores))\n",
        "\n",
        "best_model = RandomForestClassifier(criterion='entropy', max_features='log2', n_estimators=248, bootstrap=True, n_jobs=-1, random_state=42)\n",
        "cv = StratifiedKFold(n_splits=10, shuffle=True, random_state=42)\n",
        "cv_scores = cross_val_score(best_model, X, y, cv=cv, scoring='f1_macro')\n",
        "print(\"Cross-validation F1 score: \", np.max(cv_scores))"
      ]
    },
    {
      "cell_type": "code",
      "execution_count": null,
      "metadata": {
        "id": "kPDix9uTxk_u"
      },
      "outputs": [],
      "source": [
        "df_dev = pd.read_csv(\"/content/drive/MyDrive/Colab Notebooks/DSL Project/development.csv\")\n",
        "\n",
        "encodeColumns = ['dzgroup', 'ca', 'dnr', 'sex', 'race']\n",
        "df_dev = pd.get_dummies(df_dev, columns=encodeColumns)\n",
        "removeColumns = ['edu', 'income', 'scoma', 'hday', 'dnrday', 'pafi', 'dzclass']\n",
        "\n",
        "df_dev = df_dev.drop(columns = removeColumns)\n",
        "\n",
        "df_ev = pd.read_csv(\"/content/drive/MyDrive/Colab Notebooks/DSL Project/evaluation.csv\")\n",
        "\n",
        "X = df_dev.drop(columns = [\"death\", \"Id\"])\n",
        "y = df_dev[\"death\"]\n",
        "\n",
        "imputer = SimpleImputer(strategy = 'mean')\n",
        "X = imputer.fit_transform(X)\n",
        "\n",
        "best_model = RandomForestClassifier(criterion='entropy', max_features='log2', n_estimators=248, bootstrap=True, n_jobs=-1, random_state=42)\n",
        "\n",
        "best_model.fit(X, y)\n",
        "\n",
        "#Testing\n",
        "df_ev = df_ev.drop(columns = removeColumns)\n",
        "df_ev = pd.get_dummies(df_ev, columns=encodeColumns)\n",
        "\n",
        "\n",
        "X_final_test = df_ev.drop(columns = [\"Id\"])\n",
        "\n",
        "imputer = SimpleImputer(strategy = 'mean')\n",
        "X_final_test = imputer.fit_transform(X_final_test)\n",
        "\n",
        "y_test = best_model.predict(X_final_test)"
      ]
    },
    {
      "cell_type": "code",
      "execution_count": null,
      "metadata": {
        "id": "0yfEmbABhIWQ"
      },
      "outputs": [],
      "source": [
        "predicted = pd.DataFrame({'Id': df_ev[\"Id\"].values, 'Predicted': y_test})\n",
        "predicted.to_csv(\"/content/drive/MyDrive/Colab Notebooks/DSL Project/output RF GridSearch Imp.csv\", index = False, header = [\"Id\", \"Predicted\"])"
      ]
    },
    {
      "cell_type": "markdown",
      "metadata": {
        "id": "LQGBxkK_RuIk"
      },
      "source": [
        "##**KNN**"
      ]
    },
    {
      "cell_type": "code",
      "execution_count": null,
      "metadata": {
        "colab": {
          "base_uri": "https://localhost:8080/"
        },
        "id": "FwzCntGXRxzP",
        "outputId": "1b545ddf-c6e3-4494-fb9e-1ecc432c3a57"
      },
      "outputs": [
        {
          "output_type": "stream",
          "name": "stdout",
          "text": [
            "(5827, 51) (5827,) (1457, 51) (1457,)\n"
          ]
        }
      ],
      "source": [
        "df_dev = pd.read_csv(\"/content/drive/MyDrive/Colab Notebooks/DSL Project/development.csv\")\n",
        "\n",
        "encodeColumns = ['dzgroup', 'ca', 'dnr', 'sex', 'race']\n",
        "df_dev = pd.get_dummies(df_dev, columns=encodeColumns)\n",
        "removeColumns = ['edu', 'income', 'scoma', 'hday', 'dnrday', 'pafi', 'dzclass']\n",
        "\n",
        "df_dev = df_dev.drop(columns = removeColumns)\n",
        "\n",
        "X = df_dev.drop(columns = [\"death\", \"Id\"])\n",
        "y = df_dev[\"death\"]\n",
        "\n",
        "imputer = SimpleImputer(strategy='mean')\n",
        "X = imputer.fit_transform(X)"
      ]
    },
    {
      "cell_type": "code",
      "execution_count": null,
      "metadata": {
        "id": "QIg8TVqeUCQ5",
        "colab": {
          "base_uri": "https://localhost:8080/",
          "height": 118
        },
        "outputId": "d1e1a2eb-335c-4f43-e1a1-ebec3985a42e"
      },
      "outputs": [
        {
          "output_type": "execute_result",
          "data": {
            "text/plain": [
              "GridSearchCV(cv=5, estimator=KNeighborsClassifier(), n_jobs=-1,\n",
              "             param_grid={'algorithm': ['auto'],\n",
              "                         'metric': ['euclidean', 'manhattan', 'minkowski'],\n",
              "                         'n_neighbors': [3, 5, 7, 9, 11],\n",
              "                         'weights': ['uniform', 'distance']},\n",
              "             scoring='f1_macro')"
            ],
            "text/html": [
              "<style>#sk-container-id-11 {color: black;background-color: white;}#sk-container-id-11 pre{padding: 0;}#sk-container-id-11 div.sk-toggleable {background-color: white;}#sk-container-id-11 label.sk-toggleable__label {cursor: pointer;display: block;width: 100%;margin-bottom: 0;padding: 0.3em;box-sizing: border-box;text-align: center;}#sk-container-id-11 label.sk-toggleable__label-arrow:before {content: \"▸\";float: left;margin-right: 0.25em;color: #696969;}#sk-container-id-11 label.sk-toggleable__label-arrow:hover:before {color: black;}#sk-container-id-11 div.sk-estimator:hover label.sk-toggleable__label-arrow:before {color: black;}#sk-container-id-11 div.sk-toggleable__content {max-height: 0;max-width: 0;overflow: hidden;text-align: left;background-color: #f0f8ff;}#sk-container-id-11 div.sk-toggleable__content pre {margin: 0.2em;color: black;border-radius: 0.25em;background-color: #f0f8ff;}#sk-container-id-11 input.sk-toggleable__control:checked~div.sk-toggleable__content {max-height: 200px;max-width: 100%;overflow: auto;}#sk-container-id-11 input.sk-toggleable__control:checked~label.sk-toggleable__label-arrow:before {content: \"▾\";}#sk-container-id-11 div.sk-estimator input.sk-toggleable__control:checked~label.sk-toggleable__label {background-color: #d4ebff;}#sk-container-id-11 div.sk-label input.sk-toggleable__control:checked~label.sk-toggleable__label {background-color: #d4ebff;}#sk-container-id-11 input.sk-hidden--visually {border: 0;clip: rect(1px 1px 1px 1px);clip: rect(1px, 1px, 1px, 1px);height: 1px;margin: -1px;overflow: hidden;padding: 0;position: absolute;width: 1px;}#sk-container-id-11 div.sk-estimator {font-family: monospace;background-color: #f0f8ff;border: 1px dotted black;border-radius: 0.25em;box-sizing: border-box;margin-bottom: 0.5em;}#sk-container-id-11 div.sk-estimator:hover {background-color: #d4ebff;}#sk-container-id-11 div.sk-parallel-item::after {content: \"\";width: 100%;border-bottom: 1px solid gray;flex-grow: 1;}#sk-container-id-11 div.sk-label:hover label.sk-toggleable__label {background-color: #d4ebff;}#sk-container-id-11 div.sk-serial::before {content: \"\";position: absolute;border-left: 1px solid gray;box-sizing: border-box;top: 0;bottom: 0;left: 50%;z-index: 0;}#sk-container-id-11 div.sk-serial {display: flex;flex-direction: column;align-items: center;background-color: white;padding-right: 0.2em;padding-left: 0.2em;position: relative;}#sk-container-id-11 div.sk-item {position: relative;z-index: 1;}#sk-container-id-11 div.sk-parallel {display: flex;align-items: stretch;justify-content: center;background-color: white;position: relative;}#sk-container-id-11 div.sk-item::before, #sk-container-id-11 div.sk-parallel-item::before {content: \"\";position: absolute;border-left: 1px solid gray;box-sizing: border-box;top: 0;bottom: 0;left: 50%;z-index: -1;}#sk-container-id-11 div.sk-parallel-item {display: flex;flex-direction: column;z-index: 1;position: relative;background-color: white;}#sk-container-id-11 div.sk-parallel-item:first-child::after {align-self: flex-end;width: 50%;}#sk-container-id-11 div.sk-parallel-item:last-child::after {align-self: flex-start;width: 50%;}#sk-container-id-11 div.sk-parallel-item:only-child::after {width: 0;}#sk-container-id-11 div.sk-dashed-wrapped {border: 1px dashed gray;margin: 0 0.4em 0.5em 0.4em;box-sizing: border-box;padding-bottom: 0.4em;background-color: white;}#sk-container-id-11 div.sk-label label {font-family: monospace;font-weight: bold;display: inline-block;line-height: 1.2em;}#sk-container-id-11 div.sk-label-container {text-align: center;}#sk-container-id-11 div.sk-container {/* jupyter's `normalize.less` sets `[hidden] { display: none; }` but bootstrap.min.css set `[hidden] { display: none !important; }` so we also need the `!important` here to be able to override the default hidden behavior on the sphinx rendered scikit-learn.org. See: https://github.com/scikit-learn/scikit-learn/issues/21755 */display: inline-block !important;position: relative;}#sk-container-id-11 div.sk-text-repr-fallback {display: none;}</style><div id=\"sk-container-id-11\" class=\"sk-top-container\"><div class=\"sk-text-repr-fallback\"><pre>GridSearchCV(cv=5, estimator=KNeighborsClassifier(), n_jobs=-1,\n",
              "             param_grid={&#x27;algorithm&#x27;: [&#x27;auto&#x27;],\n",
              "                         &#x27;metric&#x27;: [&#x27;euclidean&#x27;, &#x27;manhattan&#x27;, &#x27;minkowski&#x27;],\n",
              "                         &#x27;n_neighbors&#x27;: [3, 5, 7, 9, 11],\n",
              "                         &#x27;weights&#x27;: [&#x27;uniform&#x27;, &#x27;distance&#x27;]},\n",
              "             scoring=&#x27;f1_macro&#x27;)</pre><b>In a Jupyter environment, please rerun this cell to show the HTML representation or trust the notebook. <br />On GitHub, the HTML representation is unable to render, please try loading this page with nbviewer.org.</b></div><div class=\"sk-container\" hidden><div class=\"sk-item sk-dashed-wrapped\"><div class=\"sk-label-container\"><div class=\"sk-label sk-toggleable\"><input class=\"sk-toggleable__control sk-hidden--visually\" id=\"sk-estimator-id-31\" type=\"checkbox\" ><label for=\"sk-estimator-id-31\" class=\"sk-toggleable__label sk-toggleable__label-arrow\">GridSearchCV</label><div class=\"sk-toggleable__content\"><pre>GridSearchCV(cv=5, estimator=KNeighborsClassifier(), n_jobs=-1,\n",
              "             param_grid={&#x27;algorithm&#x27;: [&#x27;auto&#x27;],\n",
              "                         &#x27;metric&#x27;: [&#x27;euclidean&#x27;, &#x27;manhattan&#x27;, &#x27;minkowski&#x27;],\n",
              "                         &#x27;n_neighbors&#x27;: [3, 5, 7, 9, 11],\n",
              "                         &#x27;weights&#x27;: [&#x27;uniform&#x27;, &#x27;distance&#x27;]},\n",
              "             scoring=&#x27;f1_macro&#x27;)</pre></div></div></div><div class=\"sk-parallel\"><div class=\"sk-parallel-item\"><div class=\"sk-item\"><div class=\"sk-label-container\"><div class=\"sk-label sk-toggleable\"><input class=\"sk-toggleable__control sk-hidden--visually\" id=\"sk-estimator-id-32\" type=\"checkbox\" ><label for=\"sk-estimator-id-32\" class=\"sk-toggleable__label sk-toggleable__label-arrow\">estimator: KNeighborsClassifier</label><div class=\"sk-toggleable__content\"><pre>KNeighborsClassifier()</pre></div></div></div><div class=\"sk-serial\"><div class=\"sk-item\"><div class=\"sk-estimator sk-toggleable\"><input class=\"sk-toggleable__control sk-hidden--visually\" id=\"sk-estimator-id-33\" type=\"checkbox\" ><label for=\"sk-estimator-id-33\" class=\"sk-toggleable__label sk-toggleable__label-arrow\">KNeighborsClassifier</label><div class=\"sk-toggleable__content\"><pre>KNeighborsClassifier()</pre></div></div></div></div></div></div></div></div></div></div>"
            ]
          },
          "metadata": {},
          "execution_count": 149
        }
      ],
      "source": [
        "params = {\n",
        "    'n_neighbors': [3, 5, 7, 9, 11],\n",
        "    'weights': ['uniform', 'distance'],\n",
        "    'metric': ['euclidean', 'manhattan', 'minkowski'],\n",
        "    'algorithm' : ['auto']\n",
        "}\n",
        "\n",
        "clf = KNeighborsClassifier()\n",
        "gs = GridSearchCV(clf, params, scoring = 'f1_macro', n_jobs = -1, cv = 5)\n",
        "gs.fit(X, y)"
      ]
    },
    {
      "cell_type": "code",
      "source": [
        "gs.best_params_"
      ],
      "metadata": {
        "colab": {
          "base_uri": "https://localhost:8080/"
        },
        "id": "KkgvEyWwD5V4",
        "outputId": "3861c858-d4ef-472f-811a-c4457ad20443"
      },
      "execution_count": null,
      "outputs": [
        {
          "output_type": "execute_result",
          "data": {
            "text/plain": [
              "{'algorithm': 'auto',\n",
              " 'metric': 'manhattan',\n",
              " 'n_neighbors': 3,\n",
              " 'weights': 'uniform'}"
            ]
          },
          "metadata": {},
          "execution_count": 150
        }
      ]
    },
    {
      "cell_type": "code",
      "execution_count": 36,
      "metadata": {
        "colab": {
          "base_uri": "https://localhost:8080/"
        },
        "id": "4N8Gj_RGISLv",
        "outputId": "6dc225a1-9cfc-4a17-9159-e292e58d4129"
      },
      "outputs": [
        {
          "output_type": "stream",
          "name": "stdout",
          "text": [
            "Cross-validation F1 score: 0.529666044096745\n"
          ]
        }
      ],
      "source": [
        "best_model = KNeighborsClassifier(algorithm = 'auto', metric = 'manhattan', n_neighbors = 3, weights = 'uniform')\n",
        "\n",
        "cv = StratifiedKFold(n_splits=10, shuffle=True, random_state=42)\n",
        "cv_scores = cross_val_score(best_model, X, y, cv=cv, scoring='f1_macro')\n",
        "print(\"Cross-validation F1 score: \", np.max(cv_scores))"
      ]
    },
    {
      "cell_type": "code",
      "execution_count": null,
      "metadata": {
        "id": "ZSxOiE5ON9mq"
      },
      "outputs": [],
      "source": [
        "df_dev = pd.read_csv(\"/content/drive/MyDrive/Colab Notebooks/DSL Project/development.csv\")\n",
        "\n",
        "encodeColumns = ['dzgroup', 'ca', 'dnr', 'sex', 'race']\n",
        "df_dev = pd.get_dummies(df_dev, columns=encodeColumns)\n",
        "removeColumns = ['edu', 'income', 'scoma', 'hday', 'dnrday', 'pafi', 'dzclass']\n",
        "\n",
        "df_dev = df_dev.drop(columns = removeColumns)\n",
        "\n",
        "df_ev = pd.read_csv(\"/content/drive/MyDrive/Colab Notebooks/DSL Project/evaluation.csv\")\n",
        "\n",
        "X = df_dev.drop(columns = [\"Id\", \"death\"])\n",
        "y = df_dev[\"death\"]\n",
        "\n",
        "imputer = SimpleImputer(strategy = 'mean')\n",
        "X = imputer.fit_transform(X)\n",
        "\n",
        "best_model = KNeighborsClassifier(algorithm = 'auto', metric = 'manhattan', n_neighbors = 3, weights = 'uniform')\n",
        "best_model.fit(X, y)\n",
        "\n",
        "#Testing\n",
        "df_ev = df_ev.drop(columns = removeColumns)\n",
        "df_ev = pd.get_dummies(df_ev, columns=encodeColumns)\n",
        "\n",
        "X_final_test = df_ev.drop(columns = [\"Id\"])\n",
        "\n",
        "imputer = SimpleImputer(strategy = 'mean')\n",
        "X_final_test = imputer.fit_transform(X_final_test)\n",
        "\n",
        "y_test = best_model.predict(X_final_test)"
      ]
    },
    {
      "cell_type": "code",
      "execution_count": null,
      "metadata": {
        "id": "EPyhvkMcOLXo"
      },
      "outputs": [],
      "source": [
        "predicted = pd.DataFrame({'Id': df_ev[\"Id\"].values, 'Predicted': y_test})\n",
        "predicted.to_csv(\"/content/drive/MyDrive/Colab Notebooks/DSL Project/output_KNN GRID.csv\", index = False, header = [\"Id\", \"Predicted\"])"
      ]
    },
    {
      "cell_type": "markdown",
      "source": [
        "##**NAIVE APPROACH**\n",
        "All features, no hyperparameter tunning"
      ],
      "metadata": {
        "id": "RooxqGKH140E"
      }
    },
    {
      "cell_type": "code",
      "source": [
        "df_dev = pd.read_csv(\"/content/drive/MyDrive/Colab Notebooks/DSL Project/development.csv\")\n",
        "df_ev = pd.read_csv(\"/content/drive/MyDrive/Colab Notebooks/DSL Project/evaluation.csv\")\n",
        "\n",
        "encodeColumns = ['dzgroup', 'ca', 'dnr', 'sex', 'race', 'dzclass', 'income']\n",
        "df_dev = pd.get_dummies(df_dev, columns=encodeColumns)\n",
        "\n",
        "X = df_dev.drop(columns = [\"Id\", \"death\"])\n",
        "y = df_dev[\"death\"]\n",
        "\n",
        "imputer = SimpleImputer(strategy = 'mean')\n",
        "X = imputer.fit_transform(X)\n",
        "\n",
        "clf = RandomForestClassifier()\n",
        "\n",
        "cv = StratifiedKFold(n_splits=10, shuffle=True, random_state=42)\n",
        "cv_scores = cross_val_score(clf, X, y, cv=cv, scoring='f1_macro')\n",
        "print(f\"Cross-validation F1 score (min, max): {np.min(cv_scores), np.max(cv_scores)}\")\n",
        "\n",
        "knn = KNeighborsClassifier()\n",
        "cv = StratifiedKFold(n_splits=10, shuffle=True, random_state=42)\n",
        "cv_scores = cross_val_score(knn, X, y, cv=cv, scoring='f1_macro')\n",
        "print(f\"Cross-validation F1 score (min, max): {np.min(cv_scores), np.max(cv_scores)}\")"
      ],
      "metadata": {
        "colab": {
          "base_uri": "https://localhost:8080/"
        },
        "id": "_9OYBShy2FV5",
        "outputId": "0ebf7d46-0438-48e8-af5a-8b415cc86c78"
      },
      "execution_count": 6,
      "outputs": [
        {
          "output_type": "stream",
          "name": "stdout",
          "text": [
            "Cross-validation F1 score (min, max): (0.6928451529318989, 0.7546047890257706)\n",
            "Cross-validation F1 score (min, max): (0.47058288807862075, 0.5135031736370751)\n"
          ]
        }
      ]
    }
  ],
  "metadata": {
    "colab": {
      "provenance": []
    },
    "kernelspec": {
      "display_name": "Python 3",
      "name": "python3"
    },
    "language_info": {
      "name": "python"
    }
  },
  "nbformat": 4,
  "nbformat_minor": 0
}